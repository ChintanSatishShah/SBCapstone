{
 "cells": [
  {
   "cell_type": "markdown",
   "metadata": {},
   "source": [
    "# Step 3. Benchmark Your Model (Optional)"
   ]
  },
  {
   "cell_type": "markdown",
   "metadata": {},
   "source": [
    "As per this rubric we need to run the project data through an AI service as a benchmark, or reference point."
   ]
  },
  {
   "cell_type": "markdown",
   "metadata": {},
   "source": [
    "However, since the capstone project objective is to identify the best time period for investment on a yearly basis, the accuracy is governed by how well the model predicts seasonality than actual stock price"
   ]
  },
  {
   "cell_type": "markdown",
   "metadata": {},
   "source": [
    "This has also been proved by analysis of data in Step 5, that the model providing the best forecast doesn't necessarily provide the best seasonality"
   ]
  },
  {
   "cell_type": "markdown",
   "metadata": {},
   "source": [
    "Hence, I am not implementing the benchmark rubric for the time being. <br>\n",
    "Will look at it, if I am not able to get sufficient accuracy in results with the actual time series implementation."
   ]
  }
 ],
 "metadata": {
  "kernelspec": {
   "display_name": "roamcapstone",
   "language": "python",
   "name": "roamcapstone"
  },
  "language_info": {
   "codemirror_mode": {
    "name": "ipython",
    "version": 3
   },
   "file_extension": ".py",
   "mimetype": "text/x-python",
   "name": "python",
   "nbconvert_exporter": "python",
   "pygments_lexer": "ipython3",
   "version": "3.7.1"
  }
 },
 "nbformat": 4,
 "nbformat_minor": 4
}
