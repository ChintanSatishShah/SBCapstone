{
 "cells": [
  {
   "cell_type": "markdown",
   "metadata": {},
   "source": [
    "# Step 10: Pick Your Deployment Method"
   ]
  },
  {
   "cell_type": "markdown",
   "metadata": {},
   "source": [
    "•\tIn order to display the outcome of Seasonality analysis, the preferred method will be to build a very basic single Web page application\n",
    "\n",
    "•\tI will be using Flask for the same to restrict the BOM to python libraries\n",
    "\n",
    "•\tI have explored various free Website hosting options like Heroku, Digital Ocean, Python Anywhere, Azure Cloud and AWS. \n",
    "\n",
    "•\tFinally, based on my requirements for significant amount of content data + SQLite DB, I went ahead with <code style=\"background:yellow\">AWS Elastic Beanstalk</code>. Another important reason was that exposure to AWS can help me in future for any real enterprise grade implementation."
   ]
  }
 ],
 "metadata": {
  "kernelspec": {
   "display_name": "Python 3",
   "language": "python",
   "name": "python3"
  },
  "language_info": {
   "codemirror_mode": {
    "name": "ipython",
    "version": 3
   },
   "file_extension": ".py",
   "mimetype": "text/x-python",
   "name": "python",
   "nbconvert_exporter": "python",
   "pygments_lexer": "ipython3",
   "version": "3.8.3"
  }
 },
 "nbformat": 4,
 "nbformat_minor": 4
}
